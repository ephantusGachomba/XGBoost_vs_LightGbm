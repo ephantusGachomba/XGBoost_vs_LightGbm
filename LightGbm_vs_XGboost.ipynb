{
 "cells": [
  {
   "cell_type": "code",
   "execution_count": 1,
   "id": "aaf3198d",
   "metadata": {},
   "outputs": [],
   "source": [
    "#Import the required libraries\n",
    "import numpy as np\n",
    "import matplotlib.pyplot as plt\n",
    "import pandas as pd\n",
    "from datetime import datetime\n",
    "from sklearn import metrics\n",
    "from sklearn.metrics import roc_auc_score\n",
    "from sklearn.metrics import confusion_matrix\n",
    "import seaborn as sns"
   ]
  },
  {
   "cell_type": "code",
   "execution_count": 2,
   "id": "59407691",
   "metadata": {},
   "outputs": [],
   "source": [
    "#importing the dataset\n",
    "df = pd.read_csv('Breast_Cancer_Wisconsin_data.csv')"
   ]
  },
  {
   "cell_type": "code",
   "execution_count": 3,
   "id": "19be04e6",
   "metadata": {},
   "outputs": [
    {
     "data": {
      "text/html": [
       "<div>\n",
       "<style scoped>\n",
       "    .dataframe tbody tr th:only-of-type {\n",
       "        vertical-align: middle;\n",
       "    }\n",
       "\n",
       "    .dataframe tbody tr th {\n",
       "        vertical-align: top;\n",
       "    }\n",
       "\n",
       "    .dataframe thead th {\n",
       "        text-align: right;\n",
       "    }\n",
       "</style>\n",
       "<table border=\"1\" class=\"dataframe\">\n",
       "  <thead>\n",
       "    <tr style=\"text-align: right;\">\n",
       "      <th></th>\n",
       "      <th>id</th>\n",
       "      <th>diagnosis</th>\n",
       "      <th>radius_mean</th>\n",
       "      <th>texture_mean</th>\n",
       "      <th>perimeter_mean</th>\n",
       "      <th>area_mean</th>\n",
       "      <th>smoothness_mean</th>\n",
       "      <th>compactness_mean</th>\n",
       "      <th>concavity_mean</th>\n",
       "      <th>concave points_mean</th>\n",
       "      <th>...</th>\n",
       "      <th>texture_worst</th>\n",
       "      <th>perimeter_worst</th>\n",
       "      <th>area_worst</th>\n",
       "      <th>smoothness_worst</th>\n",
       "      <th>compactness_worst</th>\n",
       "      <th>concavity_worst</th>\n",
       "      <th>concave points_worst</th>\n",
       "      <th>symmetry_worst</th>\n",
       "      <th>fractal_dimension_worst</th>\n",
       "      <th>Unnamed: 32</th>\n",
       "    </tr>\n",
       "  </thead>\n",
       "  <tbody>\n",
       "    <tr>\n",
       "      <th>0</th>\n",
       "      <td>842302</td>\n",
       "      <td>M</td>\n",
       "      <td>17.99</td>\n",
       "      <td>10.38</td>\n",
       "      <td>122.80</td>\n",
       "      <td>1001.0</td>\n",
       "      <td>0.11840</td>\n",
       "      <td>0.27760</td>\n",
       "      <td>0.3001</td>\n",
       "      <td>0.14710</td>\n",
       "      <td>...</td>\n",
       "      <td>17.33</td>\n",
       "      <td>184.60</td>\n",
       "      <td>2019.0</td>\n",
       "      <td>0.1622</td>\n",
       "      <td>0.6656</td>\n",
       "      <td>0.7119</td>\n",
       "      <td>0.2654</td>\n",
       "      <td>0.4601</td>\n",
       "      <td>0.11890</td>\n",
       "      <td>NaN</td>\n",
       "    </tr>\n",
       "    <tr>\n",
       "      <th>1</th>\n",
       "      <td>842517</td>\n",
       "      <td>M</td>\n",
       "      <td>20.57</td>\n",
       "      <td>17.77</td>\n",
       "      <td>132.90</td>\n",
       "      <td>1326.0</td>\n",
       "      <td>0.08474</td>\n",
       "      <td>0.07864</td>\n",
       "      <td>0.0869</td>\n",
       "      <td>0.07017</td>\n",
       "      <td>...</td>\n",
       "      <td>23.41</td>\n",
       "      <td>158.80</td>\n",
       "      <td>1956.0</td>\n",
       "      <td>0.1238</td>\n",
       "      <td>0.1866</td>\n",
       "      <td>0.2416</td>\n",
       "      <td>0.1860</td>\n",
       "      <td>0.2750</td>\n",
       "      <td>0.08902</td>\n",
       "      <td>NaN</td>\n",
       "    </tr>\n",
       "    <tr>\n",
       "      <th>2</th>\n",
       "      <td>84300903</td>\n",
       "      <td>M</td>\n",
       "      <td>19.69</td>\n",
       "      <td>21.25</td>\n",
       "      <td>130.00</td>\n",
       "      <td>1203.0</td>\n",
       "      <td>0.10960</td>\n",
       "      <td>0.15990</td>\n",
       "      <td>0.1974</td>\n",
       "      <td>0.12790</td>\n",
       "      <td>...</td>\n",
       "      <td>25.53</td>\n",
       "      <td>152.50</td>\n",
       "      <td>1709.0</td>\n",
       "      <td>0.1444</td>\n",
       "      <td>0.4245</td>\n",
       "      <td>0.4504</td>\n",
       "      <td>0.2430</td>\n",
       "      <td>0.3613</td>\n",
       "      <td>0.08758</td>\n",
       "      <td>NaN</td>\n",
       "    </tr>\n",
       "    <tr>\n",
       "      <th>3</th>\n",
       "      <td>84348301</td>\n",
       "      <td>M</td>\n",
       "      <td>11.42</td>\n",
       "      <td>20.38</td>\n",
       "      <td>77.58</td>\n",
       "      <td>386.1</td>\n",
       "      <td>0.14250</td>\n",
       "      <td>0.28390</td>\n",
       "      <td>0.2414</td>\n",
       "      <td>0.10520</td>\n",
       "      <td>...</td>\n",
       "      <td>26.50</td>\n",
       "      <td>98.87</td>\n",
       "      <td>567.7</td>\n",
       "      <td>0.2098</td>\n",
       "      <td>0.8663</td>\n",
       "      <td>0.6869</td>\n",
       "      <td>0.2575</td>\n",
       "      <td>0.6638</td>\n",
       "      <td>0.17300</td>\n",
       "      <td>NaN</td>\n",
       "    </tr>\n",
       "    <tr>\n",
       "      <th>4</th>\n",
       "      <td>84358402</td>\n",
       "      <td>M</td>\n",
       "      <td>20.29</td>\n",
       "      <td>14.34</td>\n",
       "      <td>135.10</td>\n",
       "      <td>1297.0</td>\n",
       "      <td>0.10030</td>\n",
       "      <td>0.13280</td>\n",
       "      <td>0.1980</td>\n",
       "      <td>0.10430</td>\n",
       "      <td>...</td>\n",
       "      <td>16.67</td>\n",
       "      <td>152.20</td>\n",
       "      <td>1575.0</td>\n",
       "      <td>0.1374</td>\n",
       "      <td>0.2050</td>\n",
       "      <td>0.4000</td>\n",
       "      <td>0.1625</td>\n",
       "      <td>0.2364</td>\n",
       "      <td>0.07678</td>\n",
       "      <td>NaN</td>\n",
       "    </tr>\n",
       "  </tbody>\n",
       "</table>\n",
       "<p>5 rows × 33 columns</p>\n",
       "</div>"
      ],
      "text/plain": [
       "         id diagnosis  radius_mean  texture_mean  perimeter_mean  area_mean  \\\n",
       "0    842302         M        17.99         10.38          122.80     1001.0   \n",
       "1    842517         M        20.57         17.77          132.90     1326.0   \n",
       "2  84300903         M        19.69         21.25          130.00     1203.0   \n",
       "3  84348301         M        11.42         20.38           77.58      386.1   \n",
       "4  84358402         M        20.29         14.34          135.10     1297.0   \n",
       "\n",
       "   smoothness_mean  compactness_mean  concavity_mean  concave points_mean  \\\n",
       "0          0.11840           0.27760          0.3001              0.14710   \n",
       "1          0.08474           0.07864          0.0869              0.07017   \n",
       "2          0.10960           0.15990          0.1974              0.12790   \n",
       "3          0.14250           0.28390          0.2414              0.10520   \n",
       "4          0.10030           0.13280          0.1980              0.10430   \n",
       "\n",
       "   ...  texture_worst  perimeter_worst  area_worst  smoothness_worst  \\\n",
       "0  ...          17.33           184.60      2019.0            0.1622   \n",
       "1  ...          23.41           158.80      1956.0            0.1238   \n",
       "2  ...          25.53           152.50      1709.0            0.1444   \n",
       "3  ...          26.50            98.87       567.7            0.2098   \n",
       "4  ...          16.67           152.20      1575.0            0.1374   \n",
       "\n",
       "   compactness_worst  concavity_worst  concave points_worst  symmetry_worst  \\\n",
       "0             0.6656           0.7119                0.2654          0.4601   \n",
       "1             0.1866           0.2416                0.1860          0.2750   \n",
       "2             0.4245           0.4504                0.2430          0.3613   \n",
       "3             0.8663           0.6869                0.2575          0.6638   \n",
       "4             0.2050           0.4000                0.1625          0.2364   \n",
       "\n",
       "   fractal_dimension_worst  Unnamed: 32  \n",
       "0                  0.11890          NaN  \n",
       "1                  0.08902          NaN  \n",
       "2                  0.08758          NaN  \n",
       "3                  0.17300          NaN  \n",
       "4                  0.07678          NaN  \n",
       "\n",
       "[5 rows x 33 columns]"
      ]
     },
     "execution_count": 3,
     "metadata": {},
     "output_type": "execute_result"
    }
   ],
   "source": [
    "df.head(5)"
   ]
  },
  {
   "cell_type": "code",
   "execution_count": 4,
   "id": "845909e1",
   "metadata": {},
   "outputs": [],
   "source": [
    "#Rename Diagnosis to label for easy understanding\n",
    "df = df.rename(columns={'diagnosis':'label'})"
   ]
  },
  {
   "cell_type": "code",
   "execution_count": 5,
   "id": "d1e8a969",
   "metadata": {},
   "outputs": [
    {
     "data": {
      "text/plain": [
       "B    357\n",
       "M    212\n",
       "Name: label, dtype: int64"
      ]
     },
     "execution_count": 5,
     "metadata": {},
     "output_type": "execute_result"
    }
   ],
   "source": [
    "df['label'].value_counts()"
   ]
  },
  {
   "cell_type": "code",
   "execution_count": 6,
   "id": "beccb186",
   "metadata": {},
   "outputs": [],
   "source": [
    "#Define the dependent variable that needs to be predicted\n",
    "y = df['label'].values"
   ]
  },
  {
   "cell_type": "code",
   "execution_count": 7,
   "id": "76cd9897",
   "metadata": {},
   "outputs": [],
   "source": [
    "#Encoding the categorical variables\n",
    "from sklearn.preprocessing import LabelEncoder\n",
    "labelencoder = LabelEncoder()\n",
    "Y = labelencoder.fit_transform(y) # M=1, B=0"
   ]
  },
  {
   "cell_type": "code",
   "execution_count": 8,
   "id": "912eaac4",
   "metadata": {},
   "outputs": [],
   "source": [
    "#Define the independent variable\n",
    "X = df.drop(labels = ['label', 'id', 'Unnamed: 32'], axis = 1)"
   ]
  },
  {
   "cell_type": "code",
   "execution_count": 9,
   "id": "2662277d",
   "metadata": {},
   "outputs": [],
   "source": [
    "feature_names = np.array(X.columns)"
   ]
  },
  {
   "cell_type": "code",
   "execution_count": 10,
   "id": "e485bdb0",
   "metadata": {},
   "outputs": [],
   "source": [
    "#Standardising X\n",
    "from sklearn.preprocessing import StandardScaler\n",
    "scaler = StandardScaler()\n",
    "scaler.fit(X)\n",
    "X = scaler.transform(X)"
   ]
  },
  {
   "cell_type": "code",
   "execution_count": 11,
   "id": "231fbd4c",
   "metadata": {},
   "outputs": [],
   "source": [
    "#Split data into train and test data sets\n",
    "from sklearn.model_selection import train_test_split\n",
    "x_train, x_test , y_train, y_test = train_test_split(X, Y, test_size=0.2, random_state=2)"
   ]
  },
  {
   "cell_type": "markdown",
   "id": "b4aa09eb",
   "metadata": {},
   "source": [
    "## LightGBM"
   ]
  },
  {
   "cell_type": "code",
   "execution_count": 12,
   "id": "17a2544b",
   "metadata": {},
   "outputs": [],
   "source": [
    "#Import lightgbm\n",
    "import lightgbm as lgb\n",
    "d_train = lgb.Dataset(x_train, label=y_train)"
   ]
  },
  {
   "cell_type": "code",
   "execution_count": 13,
   "id": "c35b538b",
   "metadata": {},
   "outputs": [],
   "source": [
    "#Parameters for tuning\n",
    "lgbm_params = {'learning_rate':0.05, 'boosting_type':'dart',\n",
    "              'objective':'binary', \n",
    "              'metric':['auc', 'binary_logloss'],\n",
    "              'num_leaves':100,\n",
    "              'max_depth':10}"
   ]
  },
  {
   "cell_type": "code",
   "execution_count": 14,
   "id": "5eb230e6",
   "metadata": {},
   "outputs": [
    {
     "name": "stdout",
     "output_type": "stream",
     "text": [
      "[LightGBM] [Info] Number of positive: 167, number of negative: 288\n",
      "[LightGBM] [Warning] Auto-choosing col-wise multi-threading, the overhead of testing was 0.000705 seconds.\n",
      "You can set `force_col_wise=true` to remove the overhead.\n",
      "[LightGBM] [Info] Total Bins 4535\n",
      "[LightGBM] [Info] Number of data points in the train set: 455, number of used features: 30\n",
      "[LightGBM] [Info] [binary:BoostFromScore]: pavg=0.367033 -> initscore=-0.544967\n",
      "[LightGBM] [Info] Start training from score -0.544967\n",
      "[LightGBM] [Warning] No further splits with positive gain, best gain: -inf\n",
      "[LightGBM] [Warning] No further splits with positive gain, best gain: -inf\n",
      "[LightGBM] [Warning] No further splits with positive gain, best gain: -inf\n",
      "[LightGBM] [Warning] No further splits with positive gain, best gain: -inf\n",
      "[LightGBM] [Warning] No further splits with positive gain, best gain: -inf\n",
      "[LightGBM] [Warning] No further splits with positive gain, best gain: -inf\n",
      "[LightGBM] [Warning] No further splits with positive gain, best gain: -inf\n",
      "[LightGBM] [Warning] No further splits with positive gain, best gain: -inf\n",
      "[LightGBM] [Warning] No further splits with positive gain, best gain: -inf\n",
      "[LightGBM] [Warning] No further splits with positive gain, best gain: -inf\n",
      "[LightGBM] [Warning] No further splits with positive gain, best gain: -inf\n",
      "[LightGBM] [Warning] No further splits with positive gain, best gain: -inf\n",
      "[LightGBM] [Warning] No further splits with positive gain, best gain: -inf\n",
      "[LightGBM] [Warning] No further splits with positive gain, best gain: -inf\n",
      "[LightGBM] [Warning] No further splits with positive gain, best gain: -inf\n",
      "[LightGBM] [Warning] No further splits with positive gain, best gain: -inf\n",
      "[LightGBM] [Warning] No further splits with positive gain, best gain: -inf\n",
      "[LightGBM] [Warning] No further splits with positive gain, best gain: -inf\n",
      "[LightGBM] [Warning] No further splits with positive gain, best gain: -inf\n",
      "[LightGBM] [Warning] No further splits with positive gain, best gain: -inf\n",
      "[LightGBM] [Warning] No further splits with positive gain, best gain: -inf\n",
      "[LightGBM] [Warning] No further splits with positive gain, best gain: -inf\n",
      "[LightGBM] [Warning] No further splits with positive gain, best gain: -inf\n",
      "[LightGBM] [Warning] No further splits with positive gain, best gain: -inf\n",
      "[LightGBM] [Warning] No further splits with positive gain, best gain: -inf\n",
      "[LightGBM] [Warning] No further splits with positive gain, best gain: -inf\n",
      "[LightGBM] [Warning] No further splits with positive gain, best gain: -inf\n",
      "[LightGBM] [Warning] No further splits with positive gain, best gain: -inf\n",
      "[LightGBM] [Warning] No further splits with positive gain, best gain: -inf\n",
      "[LightGBM] [Warning] No further splits with positive gain, best gain: -inf\n",
      "[LightGBM] [Warning] No further splits with positive gain, best gain: -inf\n",
      "[LightGBM] [Warning] No further splits with positive gain, best gain: -inf\n",
      "[LightGBM] [Warning] No further splits with positive gain, best gain: -inf\n",
      "[LightGBM] [Warning] No further splits with positive gain, best gain: -inf\n",
      "[LightGBM] [Warning] No further splits with positive gain, best gain: -inf\n",
      "[LightGBM] [Warning] No further splits with positive gain, best gain: -inf\n",
      "[LightGBM] [Warning] No further splits with positive gain, best gain: -inf\n",
      "[LightGBM] [Warning] No further splits with positive gain, best gain: -inf\n",
      "[LightGBM] [Warning] No further splits with positive gain, best gain: -inf\n",
      "[LightGBM] [Warning] No further splits with positive gain, best gain: -inf\n",
      "[LightGBM] [Warning] No further splits with positive gain, best gain: -inf\n",
      "[LightGBM] [Warning] No further splits with positive gain, best gain: -inf\n",
      "[LightGBM] [Warning] No further splits with positive gain, best gain: -inf\n",
      "[LightGBM] [Warning] No further splits with positive gain, best gain: -inf\n",
      "[LightGBM] [Warning] No further splits with positive gain, best gain: -inf\n",
      "[LightGBM] [Warning] No further splits with positive gain, best gain: -inf\n",
      "[LightGBM] [Warning] No further splits with positive gain, best gain: -inf\n",
      "[LightGBM] [Warning] No further splits with positive gain, best gain: -inf\n",
      "[LightGBM] [Warning] No further splits with positive gain, best gain: -inf\n",
      "[LightGBM] [Warning] No further splits with positive gain, best gain: -inf\n",
      "LGBM execution time is : 0:00:00.181062\n"
     ]
    }
   ],
   "source": [
    "start = datetime.now()\n",
    "clf = lgb.train(lgbm_params, d_train, 50)\n",
    "stop = datetime.now()\n",
    "execution_time_lgbm = stop - start\n",
    "print(\"LGBM execution time is :\", execution_time_lgbm)"
   ]
  },
  {
   "cell_type": "code",
   "execution_count": 15,
   "id": "c4cfe4f1",
   "metadata": {},
   "outputs": [],
   "source": [
    "#predict on test data\n",
    "y_pred_lgbm = clf.predict(x_test)"
   ]
  },
  {
   "cell_type": "code",
   "execution_count": 16,
   "id": "887add0b",
   "metadata": {},
   "outputs": [
    {
     "data": {
      "text/plain": [
       "array([0.17225479, 0.38674615, 0.08376655, 0.86738765, 0.24270019,\n",
       "       0.86648629, 0.13468937, 0.08366561, 0.0837912 , 0.08894696,\n",
       "       0.73026956, 0.08736553, 0.2150927 , 0.08284541, 0.08441858,\n",
       "       0.74978643, 0.08437633, 0.08287591, 0.13476057, 0.86651359,\n",
       "       0.4577448 , 0.08372617, 0.08357983, 0.0835934 , 0.17628769,\n",
       "       0.86523936, 0.08353297, 0.23566235, 0.86058004, 0.85627566,\n",
       "       0.53337996, 0.08374744, 0.08365964, 0.86342161, 0.8718547 ,\n",
       "       0.08893997, 0.086445  , 0.10037958, 0.08367127, 0.08672842,\n",
       "       0.86752632, 0.81287755, 0.15688027, 0.08265625, 0.83374431,\n",
       "       0.08379631, 0.0913966 , 0.09431089, 0.84980198, 0.86608049,\n",
       "       0.08440818, 0.81268268, 0.80215654, 0.08403457, 0.08376719,\n",
       "       0.70854274, 0.14244756, 0.11551119, 0.51960323, 0.08356589,\n",
       "       0.08352723, 0.82382424, 0.08348118, 0.86751243, 0.84180032,\n",
       "       0.66941234, 0.8635062 , 0.81245195, 0.72341778, 0.48995113,\n",
       "       0.85735072, 0.74904828, 0.08377839, 0.86830283, 0.08354209,\n",
       "       0.85406679, 0.09416774, 0.08363638, 0.31479157, 0.82371866,\n",
       "       0.8687461 , 0.87019421, 0.86784036, 0.08303551, 0.08373088,\n",
       "       0.78685964, 0.11073565, 0.08375752, 0.08728922, 0.86601772,\n",
       "       0.0836709 , 0.16564333, 0.08746854, 0.86637324, 0.86007177,\n",
       "       0.08322984, 0.86818268, 0.86685365, 0.15538116, 0.08373175,\n",
       "       0.08684607, 0.86695727, 0.86738928, 0.86634025, 0.08980226,\n",
       "       0.0836775 , 0.08956188, 0.08983156, 0.10073187, 0.1917281 ,\n",
       "       0.85976451, 0.86522243, 0.1792005 , 0.86568465])"
      ]
     },
     "execution_count": 16,
     "metadata": {},
     "output_type": "execute_result"
    }
   ],
   "source": [
    "y_pred_lgbm"
   ]
  },
  {
   "cell_type": "code",
   "execution_count": 17,
   "id": "6cb3b508",
   "metadata": {},
   "outputs": [],
   "source": [
    "#convert into binary values 0/1 for classification\n",
    "for i in range(0,x_test.shape[0]):\n",
    "    if y_pred_lgbm[i] >= 0.5:\n",
    "        y_pred_lgbm[i] = 1\n",
    "    else:\n",
    "        y_pred_lgbm[i] = 0"
   ]
  },
  {
   "cell_type": "code",
   "execution_count": 18,
   "id": "4fcbfdf0",
   "metadata": {},
   "outputs": [
    {
     "name": "stdout",
     "output_type": "stream",
     "text": [
      "Accuracy with LGBM =  0.9298245614035088\n"
     ]
    }
   ],
   "source": [
    "#Printing accuracy\n",
    "print(\"Accuracy with LGBM = \", metrics.accuracy_score(y_pred_lgbm, y_test))"
   ]
  },
  {
   "cell_type": "code",
   "execution_count": 19,
   "id": "ceaf9ee9",
   "metadata": {},
   "outputs": [
    {
     "data": {
      "text/plain": [
       "<AxesSubplot:>"
      ]
     },
     "execution_count": 19,
     "metadata": {},
     "output_type": "execute_result"
    },
    {
     "data": {
      "image/png": "[encoded data removed]",
      "text/plain": [
       "<Figure size 432x288 with 2 Axes>"
      ]
     },
     "metadata": {
      "needs_background": "light"
     },
     "output_type": "display_data"
    }
   ],
   "source": [
    "#confusion_matrix\n",
    "cm_lgbm = confusion_matrix(y_test, y_pred_lgbm)\n",
    "sns.heatmap(cm_lgbm, annot=True)"
   ]
  },
  {
   "cell_type": "code",
   "execution_count": 20,
   "id": "e132a0c6",
   "metadata": {},
   "outputs": [
    {
     "name": "stdout",
     "output_type": "stream",
     "text": [
      "AUC score with LGBM is : 0.9244204509368052\n"
     ]
    }
   ],
   "source": [
    "#print auc score\n",
    "print(\"AUC score with LGBM is :\", roc_auc_score(y_pred_lgbm, y_test))"
   ]
  },
  {
   "cell_type": "markdown",
   "id": "fec73bfb",
   "metadata": {},
   "source": [
    "## xgboost"
   ]
  },
  {
   "cell_type": "code",
   "execution_count": 21,
   "id": "351dc314",
   "metadata": {},
   "outputs": [],
   "source": [
    "import xgboost as xgb\n",
    "dtrain = xgb.DMatrix(x_train, label = y_train)"
   ]
  },
  {
   "cell_type": "code",
   "execution_count": 22,
   "id": "31bc86b2",
   "metadata": {},
   "outputs": [],
   "source": [
    "#setting parameters for xgboost\n",
    "parameters = {'max_depth':10,\n",
    "             'objective':'binary:logistic',\n",
    "             'eval_metric':'auc',\n",
    "             'learning_rate':0.05}\n",
    "\n",
    "start = datetime.now()\n",
    "xg = xgb.train(parameters, dtrain, 50)\n",
    "stop = datetime.now()"
   ]
  },
  {
   "cell_type": "code",
   "execution_count": 23,
   "id": "51391ff5",
   "metadata": {},
   "outputs": [],
   "source": [
    "#Execution time of the model\n",
    "execution_time_xgb = stop - start\n",
    "#print(\"XGBoost execution time is :\", execution_time_xgb)"
   ]
  },
  {
   "cell_type": "code",
   "execution_count": 24,
   "id": "48abbf74",
   "metadata": {},
   "outputs": [],
   "source": [
    "#Now predicting the model on the test set\n",
    "dtest = xgb.DMatrix(x_test)\n",
    "y_pred_xgb = xg.predict(dtest)"
   ]
  },
  {
   "cell_type": "code",
   "execution_count": 25,
   "id": "406a058a",
   "metadata": {},
   "outputs": [],
   "source": [
    "#Converting probabilities into 1 or 0\n",
    "for i in range(0, x_test.shape[0]):\n",
    "    if y_pred_xgb[i]>= 0.5:\n",
    "        y_pred_xgb[i] = 1\n",
    "    else:\n",
    "        y_pred_xgb[i] = 0"
   ]
  },
  {
   "cell_type": "code",
   "execution_count": 26,
   "id": "7898dc94",
   "metadata": {},
   "outputs": [
    {
     "data": {
      "text/plain": [
       "<AxesSubplot:>"
      ]
     },
     "execution_count": 26,
     "metadata": {},
     "output_type": "execute_result"
    },
    {
     "data": {
      "image/png": "[encoded data removed]",
      "text/plain": [
       "<Figure size 432x288 with 2 Axes>"
      ]
     },
     "metadata": {
      "needs_background": "light"
     },
     "output_type": "display_data"
    }
   ],
   "source": [
    "cm_xgb = confusion_matrix(y_test, y_pred_xgb)\n",
    "sns.heatmap(cm_xgb, annot=True)"
   ]
  },
  {
   "cell_type": "code",
   "execution_count": 27,
   "id": "b18a0790",
   "metadata": {
    "scrolled": false
   },
   "outputs": [
    {
     "name": "stdout",
     "output_type": "stream",
     "text": [
      "#########################\n",
      "LGBM execution time is : 0:00:00.181062\n",
      "XGBoost execution time is : 0:00:00.174239\n",
      "#########################\n",
      "Accuracy with LGBM =  0.9298245614035088\n",
      "Accuracy with XGBoost =  0.9122807017543859\n",
      "#########################\n",
      "AUC score with LGBM is : 0.9244204509368052\n",
      "AUC score with XGBoost is : 0.9054945054945055\n"
     ]
    }
   ],
   "source": [
    "#####summary\n",
    "print(\"#########################\")\n",
    "print(\"LGBM execution time is :\", execution_time_lgbm)\n",
    "print(\"XGBoost execution time is :\", execution_time_xgb)\n",
    "print(\"#########################\")\n",
    "print(\"Accuracy with LGBM = \", metrics.accuracy_score(y_pred_lgbm, y_test))\n",
    "print(\"Accuracy with XGBoost = \", metrics.accuracy_score(y_pred_xgb, y_test))\n",
    "print(\"#########################\")\n",
    "print(\"AUC score with LGBM is :\", roc_auc_score(y_pred_lgbm, y_test))\n",
    "print(\"AUC score with XGBoost is :\", roc_auc_score(y_pred_xgb, y_test))"
   ]
  },
  {
   "cell_type": "code",
   "execution_count": null,
   "id": "39b71c40",
   "metadata": {},
   "outputs": [],
   "source": []
  },
  {
   "cell_type": "code",
   "execution_count": null,
   "id": "3f0f0081",
   "metadata": {},
   "outputs": [],
   "source": []
  }
 ],
 "metadata": {
  "kernelspec": {
   "display_name": "Python 3",
   "language": "python",
   "name": "python3"
  },
  "language_info": {
   "codemirror_mode": {
    "name": "ipython",
    "version": 3
   },
   "file_extension": ".py",
   "mimetype": "text/x-python",
   "name": "python",
   "nbconvert_exporter": "python",
   "pygments_lexer": "ipython3",
   "version": "3.8.8"
  }
 },
 "nbformat": 4,
 "nbformat_minor": 5
}
